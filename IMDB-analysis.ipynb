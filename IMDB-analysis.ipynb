{
 "cells": [
  {
   "cell_type": "markdown",
   "id": "e19024f5-a791-4be0-a0e3-62043fae591f",
   "metadata": {},
   "source": [
    "# Set up"
   ]
  },
  {
   "cell_type": "markdown",
   "id": "b9161918-c3fb-480f-8598-7e818484d105",
   "metadata": {},
   "source": [
    "The following package will download the TSV files from IMDB website and store the data into a SQLite database (requires 10GB of disk space)\n"
   ]
  },
  {
   "cell_type": "code",
   "execution_count": null,
   "id": "fc97f193-6a98-460c-af5c-b396ee3dc3af",
   "metadata": {},
   "outputs": [],
   "source": [
    "!pip install imdb-sqlite"
   ]
  },
  {
   "cell_type": "code",
   "execution_count": null,
   "id": "5a7c9220-ed3e-460d-8797-2c6c3b217943",
   "metadata": {},
   "outputs": [],
   "source": [
    "%%time\n",
    "!imdb-sqlite"
   ]
  },
  {
   "cell_type": "code",
   "execution_count": null,
   "id": "fa0d2635-7ab2-41c7-8f6a-43d98113e33d",
   "metadata": {},
   "outputs": [],
   "source": [
    "# Need this package for hadling country ISO codes\n",
    "!pip install pycountry"
   ]
  },
  {
   "cell_type": "code",
   "execution_count": null,
   "id": "a43d2671-4d8a-4066-bf91-89b1420f1b61",
   "metadata": {},
   "outputs": [],
   "source": [
    "# Imports\n",
    "from matplotlib import cm  # Color maps\n",
    "from sklearn.feature_extraction.text import CountVectorizer  # Convert a collection of text documents to a matrix of token counts\n",
    "import re\n",
    "import time\n",
    "import sqlite3\n",
    "import pycountry\n",
    "import numpy as np\n",
    "import pandas as pd\n",
    "import matplotlib.pyplot as plt\n",
    "import seaborn as sns\n",
    "import warnings\n"
   ]
  },
  {
   "cell_type": "code",
   "execution_count": null,
   "id": "68713c74-af29-4df7-9fe5-6ba63fe26e62",
   "metadata": {},
   "outputs": [],
   "source": [
    "# Some tweaks\n",
    "\n",
    "warnings.filterwarnings('ignore')  # Don't show warnings\n",
    "sns.set_theme(style='whitegrid')"
   ]
  },
  {
   "cell_type": "markdown",
   "id": "cff4f574-334d-4894-a363-49b60cab3399",
   "metadata": {},
   "source": [
    "# Database structure analysis"
   ]
  },
  {
   "cell_type": "code",
   "execution_count": null,
   "id": "9b9d6e43-c3f9-4a12-8fb9-484e3f75ce10",
   "metadata": {},
   "outputs": [],
   "source": [
    "# Connect to databse\n",
    "conn = sqlite3.connect('imdb.db')"
   ]
  },
  {
   "cell_type": "code",
   "execution_count": null,
   "id": "e66de4a7-7cb4-4304-a111-a03dbcafbd60",
   "metadata": {},
   "outputs": [],
   "source": [
    "# Retrieve tables' names\n",
    "tables = pd.read_sql_query('SELECT name AS \"Table_name\" FROM sqlite_master WHERE type=\"table\"', conn)\n",
    "tables.head()"
   ]
  },
  {
   "cell_type": "code",
   "execution_count": null,
   "id": "7bc82768-3fad-4534-aa68-79c8e0e01a4b",
   "metadata": {},
   "outputs": [],
   "source": [
    "# Retrieve each table's schema\n",
    "\n",
    "tables_names = tables['Table_name'].values.tolist()\n",
    "\n",
    "for table_name in tables_names:\n",
    "    schema = pd.read_sql_query(f'PRAGMA TABLE_INFO({table_name})', conn)\n",
    "    print(f'Schema for table {table_name}:')\n",
    "    display(schema)\n",
    "    print(f'{50 * \"_\"}\\n\\n')"
   ]
  },
  {
   "cell_type": "markdown",
   "id": "317be3ea-3019-43c7-a4e2-a3ab1f581b8a",
   "metadata": {},
   "source": [
    "# 1. The most common content categories in IMDB"
   ]
  },
  {
   "cell_type": "code",
   "execution_count": null,
   "id": "b480e4b5-38d3-4485-8e37-5c2363f94bf9",
   "metadata": {},
   "outputs": [],
   "source": [
    "# Retrieve the data\n",
    "query = 'SELECT type, COUNT(*) AS abs_frequency FROM titles GROUP BY type ORDER BY abs_frequency DESC'\n",
    "dataframe = pd.read_sql_query(query, conn)\n",
    "display(dataframe)"
   ]
  },
  {
   "cell_type": "code",
   "execution_count": null,
   "id": "bd476739-8e32-4d4d-a7ec-9105fbed7230",
   "metadata": {},
   "outputs": [],
   "source": [
    "# Remove tvEpisode type\n",
    "dataframe = dataframe.drop(labels=0, axis=0)"
   ]
  },
  {
   "cell_type": "code",
   "execution_count": null,
   "id": "49b0c7e8-78a5-44b7-bcd1-4ea6d9a75424",
   "metadata": {},
   "outputs": [],
   "source": [
    "# Add the relative_frequency\n",
    "sum_abs_freq = dataframe['abs_frequency'].sum()\n",
    "dataframe['rel_frequency'] = (dataframe['abs_frequency'] / sum_abs_freq) * 100\n",
    "display(dataframe)"
   ]
  },
  {
   "cell_type": "markdown",
   "id": "2e632d32-96d9-415e-bce6-6d6a47b7b91b",
   "metadata": {},
   "source": [
    "Now let's create a graph with 5 categories:\n",
    "\n",
    "4 categories with the the biggest amount of titles.\n",
    "\n",
    "1 category with the others\n"
   ]
  },
  {
   "cell_type": "code",
   "execution_count": null,
   "id": "beab865d-74a5-4a0d-8f94-7e306888d521",
   "metadata": {},
   "outputs": [],
   "source": [
    "# Others category\n",
    "others = {}\n",
    "others['type'] = 'others'\n",
    "others['abs_frequency'] = dataframe.iloc[4:]['abs_frequency'].sum()\n",
    "others['rel_frequency'] = dataframe.iloc[4:]['rel_frequency'].sum()\n",
    "others"
   ]
  },
  {
   "cell_type": "code",
   "execution_count": null,
   "id": "9e00155a-bb99-4fab-80f1-cbc1e9db7edc",
   "metadata": {},
   "outputs": [],
   "source": [
    "# The common title categories dataframe\n",
    "dataframe = dataframe.head(4)\n",
    "dataframe = dataframe.append(others, ignore_index=True)  # Append others category\n",
    "dataframe = dataframe.sort_values(by='rel_frequency', ascending=False)\n",
    "dataframe"
   ]
  },
  {
   "cell_type": "code",
   "execution_count": null,
   "id": "53366ff1-340a-44c8-8dcf-1f72109bb67a",
   "metadata": {},
   "outputs": [],
   "source": [
    "# Labels\n",
    "labels = []\n",
    "\n",
    "for i in dataframe.index:\n",
    "    cont_type = dataframe.loc[i][\"type\"]\n",
    "    cont_type = re.sub(r\"(\\w)([A-Z])\", r\"\\1 \\2\", cont_type) # Add space before capital letters\n",
    "    cont_type = cont_type[0].upper() + cont_type[1:] # Uppercase the first letter without changing the rest\n",
    "\n",
    "    rel_freq = round(dataframe.loc[i][\"rel_frequency\"], 2)\n",
    "\n",
    "    labels.append(f'{cont_type} {rel_freq}%')\n",
    "\n",
    "labels"
   ]
  },
  {
   "cell_type": "code",
   "execution_count": null,
   "id": "1d6b05ca-d8a7-422c-9e98-f4293a24f40c",
   "metadata": {},
   "outputs": [],
   "source": [
    "# Plot\n",
    "\n",
    "# Set color map\n",
    "# https://matplotlib.org/stable/tutorials/colors/colormaps.html\n",
    "cs = cm.tab10(range(100))\n",
    "\n",
    "plt.pie(dataframe['rel_frequency'], colors = cs, labeldistance = 1, radius = 3, wedgeprops = dict(width = 0.8))\n",
    "plt.legend(labels = labels, loc = 'center', fontsize = 12)\n",
    "plt.title(label = 'Content Categories', loc = 'center', fontdict = {'fontsize':20,'fontweight':20})\n",
    "plt.show()"
   ]
  },
  {
   "cell_type": "markdown",
   "id": "aca33922-a191-458f-ae2f-70c5a5eb6b44",
   "metadata": {},
   "source": [
    "# 2. Percentage of movies per genre"
   ]
  },
  {
   "cell_type": "code",
   "execution_count": null,
   "id": "9a3e7465-fd9a-4953-b2c4-8fc279163e24",
   "metadata": {},
   "outputs": [],
   "source": [
    "# Retrieve movie genres and sort them\n",
    "query = 'SELECT genres FROM titles WHERE type=\"movie\"'\n",
    "dataframe = pd.read_sql_query(query, conn)\n",
    "display(dataframe)"
   ]
  },
  {
   "cell_type": "code",
   "execution_count": null,
   "id": "0c8128eb-8829-4f09-b1b0-cb3417ad23f7",
   "metadata": {},
   "outputs": [],
   "source": [
    "# Lowercase genres\n",
    "dataframe['genres'] = dataframe['genres'].str.lower()"
   ]
  },
  {
   "cell_type": "code",
   "execution_count": null,
   "id": "027e9e9d-8145-4623-8a3b-ca44236ed968",
   "metadata": {},
   "outputs": [],
   "source": [
    "# Function for removing missing values\n",
    "\n",
    "def rm_miss_values(df: pd.DataFrame, column: str, miss_indicator: str = '\\\\n') -> pd.DataFrame:\n",
    "    if column != None:\n",
    "        df[column].replace(miss_indicator, np.nan, inplace=True)\n",
    "        cleared_df = df.dropna(subset=[column])\n",
    "    else:\n",
    "        df.replace(miss_indicator, np.nan, inplace=True)\n",
    "        cleared_df = df.dropna()\n",
    "    return cleared_df"
   ]
  },
  {
   "cell_type": "code",
   "execution_count": null,
   "id": "c5cf4e11-2ed1-459c-a870-c9c58fc64358",
   "metadata": {},
   "outputs": [],
   "source": [
    "# Remove missing values\n",
    "genres_df = rm_miss_values(dataframe, 'genres')\n",
    "display(genres_df)"
   ]
  },
  {
   "cell_type": "markdown",
   "id": "cd3881d2-57a0-4d34-a7a8-dcbb3cb0ebaf",
   "metadata": {},
   "source": [
    "#### How CountVectorizer works:\n",
    "\n",
    "![How CountVectorizer works](https://mlwhiz.com/images/countvectorizer.png)"
   ]
  },
  {
   "cell_type": "code",
   "execution_count": null,
   "id": "74d198ce-7c66-43db-9a4a-d782648e4def",
   "metadata": {},
   "outputs": [],
   "source": [
    "# Function that creates a dataframe with unique genres and the respectively absolute frequency\n",
    "\n",
    "def df_uniq_genres_abs_freq(df: pd.DataFrame, column: str, abs_freq=True) -> pd.DataFrame:\n",
    "    # Match words with lenght > 1 and with - or not\n",
    "    pattern = '(?u)\\\\b\\\\w[\\\\w-]+\\\\b'\n",
    "\n",
    "    # Deals with multi-categorical data\n",
    "    vect = CountVectorizer(token_pattern=pattern).fit(df[column])\n",
    "\n",
    "    # Create Document-term matrix.\n",
    "    bag_genres = vect.transform(df[column])\n",
    "\n",
    "    # Create array of unique genres\n",
    "    unique_genres = vect.get_feature_names()\n",
    "\n",
    "    if abs_freq:\n",
    "        # Sum sparse matrix columns\n",
    "        genres_abs_freq = bag_genres.toarray().sum(axis=0)\n",
    "\n",
    "        # Return DataFrame with genres and absolute frequencies\n",
    "        return pd.DataFrame(zip(unique_genres, genres_abs_freq), columns=['genre', 'abs_freq'])\n",
    "    else:\n",
    "        return pd.DataFrame(unique_genres, columns=['genre'])"
   ]
  },
  {
   "cell_type": "code",
   "execution_count": null,
   "id": "b32326fd-6707-41c2-8832-6b1cf7d56ed3",
   "metadata": {},
   "outputs": [],
   "source": [
    "# Create final dataframe\n",
    "genres_df = df_uniq_genres_abs_freq(genres_df, column='genres')\n",
    "genres_df"
   ]
  },
  {
   "cell_type": "code",
   "execution_count": null,
   "id": "21b55f54-73d0-46ef-8bf2-3f29fb18ff2b",
   "metadata": {},
   "outputs": [],
   "source": [
    "# Sum of absolute frequencies\n",
    "freq_total_sum = genres_df['abs_freq'].sum()\n",
    "freq_total_sum"
   ]
  },
  {
   "cell_type": "code",
   "execution_count": null,
   "id": "00df4cea-2820-401e-b757-5b49c9d8913f",
   "metadata": {},
   "outputs": [],
   "source": [
    "# Sort by absolute frequency\n",
    "genres_df = genres_df.sort_values(by='abs_freq', ascending=False)\n",
    "genres_df"
   ]
  },
  {
   "cell_type": "code",
   "execution_count": null,
   "id": "d5d1f83b-334d-4c2b-891e-dd815dc03874",
   "metadata": {},
   "outputs": [],
   "source": [
    "# Add relative frequencies to dataframe\n",
    "genres_df['rel_freq'] = [(abs_freq / freq_total_sum) * 100 for abs_freq in genres_df['abs_freq']]\n",
    "genres_df"
   ]
  },
  {
   "cell_type": "code",
   "execution_count": null,
   "id": "cf3745b9-cdcb-4076-bdc7-8cebcb8392d6",
   "metadata": {},
   "outputs": [],
   "source": [
    "# Plot\n",
    "\n",
    "plt.figure(figsize=(16, 8))\n",
    "sns.barplot(x=genres_df['rel_freq'].tolist(), y=genres_df['genre'].tolist(),\n",
    "            orient='h', palette='terrain')\n",
    "plt.ylabel('Gender')\n",
    "plt.xlabel('Percentual of movies (%)')\n",
    "plt.title('Percentage of movie genres')\n",
    "plt.show()\n"
   ]
  },
  {
   "cell_type": "markdown",
   "id": "a024c3d7-e605-4b0c-89ea-ecc212f8dda0",
   "metadata": {},
   "source": [
    "# 3. Movie ratings median per genre"
   ]
  },
  {
   "cell_type": "code",
   "execution_count": null,
   "id": "a61a3e2d-7d0b-4737-889c-0e6ed53be716",
   "metadata": {},
   "outputs": [],
   "source": [
    "query = 'SELECT rating, genres AS genre FROM ratings JOIN titles ON ratings.title_id = titles.title_id WHERE type = \"movie\"'"
   ]
  },
  {
   "cell_type": "code",
   "execution_count": null,
   "id": "69d83586-c3c0-4b3b-af54-55c6b152038b",
   "metadata": {},
   "outputs": [],
   "source": [
    "genre_df = pd.read_sql_query(query, conn)\n",
    "display(genre_df)"
   ]
  },
  {
   "cell_type": "code",
   "execution_count": null,
   "id": "15ea680c-e929-405d-9d59-e481f2072295",
   "metadata": {},
   "outputs": [],
   "source": [
    "genre_df['genre'] = genre_df['genre'].str.lower()\n",
    "display(genre_df)"
   ]
  },
  {
   "cell_type": "code",
   "execution_count": null,
   "id": "f5de3ffb-2ced-4a9d-9c85-65b5dd71ccdd",
   "metadata": {},
   "outputs": [],
   "source": [
    "# Remove missing values\n",
    "genre_df = rm_miss_values(genre_df, column='genre')\n",
    "display(genre_df)"
   ]
  },
  {
   "cell_type": "code",
   "execution_count": null,
   "id": "8ea1fdde-7e28-4590-998f-419ef9d9ac45",
   "metadata": {},
   "outputs": [],
   "source": [
    "genre_df = df_uniq_genres_abs_freq(genre_df, column='genre')\n",
    "genre_df"
   ]
  },
  {
   "cell_type": "code",
   "execution_count": null,
   "id": "5931f26e-9164-483a-97c7-958dfd0981c4",
   "metadata": {},
   "outputs": [],
   "source": [
    "# Compute the rating median for each gender\n",
    "def genre_rating_median(genres: list, conn: sqlite3.Connection) -> dict:\n",
    "    genre_ratings = {}\n",
    "\n",
    "    for genre in genres:\n",
    "        query = f'SELECT rating FROM ratings JOIN titles ON ratings.title_id = titles.title_id WHERE genres LIKE \"%{genre}%\" AND type = \"movie\"'\n",
    "        result = pd.read_sql_query(query, conn)\n",
    "        genre_ratings[genre] = np.median(result['rating'])\n",
    "\n",
    "    return genre_ratings"
   ]
  },
  {
   "cell_type": "code",
   "execution_count": null,
   "id": "125677a5-3903-47f2-a046-63923d977b9c",
   "metadata": {},
   "outputs": [],
   "source": [
    "genre_ratings = genre_rating_median(genre_df['genre'], conn)\n",
    "genre_ratings"
   ]
  },
  {
   "cell_type": "code",
   "execution_count": null,
   "id": "bbe95030-8b8e-4442-a7ee-8d8abc3ff5e4",
   "metadata": {},
   "outputs": [],
   "source": [
    "# Game Show, Talk Show, Reality TV and News aren't movie genres, so lets remove them\n",
    "\n",
    "for genre in ['game-show', 'talk-show', 'news', 'reality-tv']:\n",
    "    genre_ratings.pop(genre)\n",
    "    genre_df = genre_df[genre_df.genre != genre]\n",
    "\n",
    "display(genre_df)\n",
    "genre_ratings"
   ]
  },
  {
   "cell_type": "code",
   "execution_count": null,
   "id": "6a9778ca-6256-4c37-893d-0a226d4cea6a",
   "metadata": {},
   "outputs": [],
   "source": [
    "# Create column rating and sort them\n",
    "\n",
    "genre_df['rating'] = genre_ratings.values()\n",
    "genre_df = genre_df.sort_values(by='rating', ascending=False)\n",
    "genre_df"
   ]
  },
  {
   "cell_type": "code",
   "execution_count": null,
   "id": "b41abcd8-537a-4fb7-8447-7cece2e16f40",
   "metadata": {},
   "outputs": [],
   "source": [
    "# Plot\n",
    "\n",
    "plt.figure(figsize=(18, 10))\n",
    "sns.barplot(x=genre_df['rating'], y=genre_df['genre'], orient='h')\n",
    "\n",
    "# Plot Text\n",
    "for i in range(len(genre_df.index)):\n",
    "    plt.text(x=4, y=i + .22,\n",
    "             s=f'{genre_df[\"abs_freq\"][genre_df.index[i]]} titles')\n",
    "\n",
    "    rating = genre_df['rating'][genre_df.index[i]]\n",
    "    plt.text(x=rating + .05, y=i + .22, s=rating)\n",
    "\n",
    "plt.xlabel('Rating Median')\n",
    "plt.ylabel('Genre')\n",
    "plt.title('\\nGenre Rating Median\\n')\n",
    "plt.show()"
   ]
  },
  {
   "cell_type": "markdown",
   "id": "00aafbd5-8bb2-4fba-a1dd-4331af28e4d5",
   "metadata": {},
   "source": [
    "# 4. Median of movie ratings by premiered year"
   ]
  },
  {
   "cell_type": "code",
   "execution_count": null,
   "id": "c4cf30d7-5b10-4b32-8324-5f98735246ab",
   "metadata": {},
   "outputs": [],
   "source": [
    "query = 'SELECT rating, premiered FROM ratings JOIN titles ON ratings.title_id = titles.title_id WHERE type = \"movie\" ORDER BY premiered'"
   ]
  },
  {
   "cell_type": "code",
   "execution_count": null,
   "id": "0de3d3ab-034b-41ae-941e-07b37e074934",
   "metadata": {},
   "outputs": [],
   "source": [
    "df = pd.read_sql_query(query, conn)\n",
    "display(df)"
   ]
  },
  {
   "cell_type": "code",
   "execution_count": null,
   "id": "b2dcd265-2f1b-433d-9c79-f04c626f00c2",
   "metadata": {},
   "outputs": [],
   "source": [
    "# Clear empty values\n",
    "\n",
    "df.dropna(axis=0, inplace=True)\n",
    "df"
   ]
  },
  {
   "cell_type": "code",
   "execution_count": null,
   "id": "151a4d53-c385-4e1a-a9af-a8740ce10608",
   "metadata": {},
   "outputs": [],
   "source": [
    "# Computes the median\n",
    "\n",
    "ratings = {}\n",
    "for i in set(df['premiered']):\n",
    "    ratings_df = df[df['premiered'] == i]['rating']\n",
    "    ratings[i] = np.median(ratings_df)\n",
    "\n",
    "ratings"
   ]
  },
  {
   "cell_type": "code",
   "execution_count": null,
   "id": "0c29739b-0864-4ae4-8e3a-4525cc8b2233",
   "metadata": {},
   "outputs": [],
   "source": [
    "# Plot\n",
    "\n",
    "plt.figure(figsize=(18, 8))\n",
    "sns.lineplot(x=ratings.keys(), y=ratings.values())\n",
    "plt.title('Median of movie ratings by year')\n",
    "plt.xlabel('Premiered year')\n",
    "plt.ylabel('Ratings median')\n",
    "plt.show()"
   ]
  },
  {
   "cell_type": "markdown",
   "id": "ccb0ff83-7703-4e6f-ac2d-cf6567eb1420",
   "metadata": {},
   "source": [
    "# 5. Number of titles premiered each year by genre"
   ]
  },
  {
   "cell_type": "code",
   "execution_count": null,
   "id": "802ce3ab-c6b2-4e63-9502-4bc992ea1526",
   "metadata": {},
   "outputs": [],
   "source": [
    "query = 'SELECT genres FROM titles WHERE type = \"movie\"'"
   ]
  },
  {
   "cell_type": "code",
   "execution_count": null,
   "id": "89f1a7e3-3d82-4396-85f8-32cc73907a02",
   "metadata": {},
   "outputs": [],
   "source": [
    "df = pd.read_sql_query(query, conn)\n",
    "df"
   ]
  },
  {
   "cell_type": "code",
   "execution_count": null,
   "id": "b728bcb8-64ea-4031-ac12-8153397341e7",
   "metadata": {},
   "outputs": [],
   "source": [
    "# Clear data\n",
    "\n",
    "# Lowercase genres\n",
    "df['genres'] = df['genres'].str.lower()\n",
    "\n",
    "df = rm_miss_values(df, column=None)\n",
    "df"
   ]
  },
  {
   "cell_type": "code",
   "execution_count": null,
   "id": "1a416c6c-be0c-485a-b050-7296a36f4ebe",
   "metadata": {},
   "outputs": [],
   "source": [
    "# Compute unique genres from df\n",
    "\n",
    "genres_df = df_uniq_genres_abs_freq(df, 'genres', abs_freq=False)\n",
    "genres_df"
   ]
  },
  {
   "cell_type": "code",
   "execution_count": null,
   "id": "b81478f7-9c53-4e23-8fc6-19e2440eca28",
   "metadata": {},
   "outputs": [],
   "source": [
    "# Game Show, Talk Show, Reality TV and News aren't movie genres, so lets remove them\n",
    "\n",
    "for genre in ['game-show', 'talk-show', 'news', 'reality-tv']:\n",
    "    genres_df = genres_df[genres_df.genre != genre]\n",
    "\n",
    "display(genres_df)"
   ]
  },
  {
   "cell_type": "code",
   "execution_count": null,
   "id": "8df86cc0-9bb9-4280-a8c7-261205bfaeae",
   "metadata": {},
   "outputs": [],
   "source": [
    "# Top 5 most common genres\n",
    "\n",
    "genre_top5 = {}\n",
    "\n",
    "for genre in genres_df['genre']:\n",
    "    query = f'SELECT COUNT(*) AS abs_freq FROM titles WHERE genres LIKE \"%{genre}%\" AND type = \"movie\" AND premiered <= 2022'\n",
    "    genre_top5[genre] = pd.read_sql_query(query, conn).iloc[0]['abs_freq']\n",
    "\n",
    "# Sort and return top 5\n",
    "genre_top5 = dict(sorted(genre_top5.items(), key=lambda item: item[1], reverse=True)[:5])\n",
    "genre_top5"
   ]
  },
  {
   "cell_type": "code",
   "execution_count": null,
   "id": "d2a63514-40c0-4f95-bb19-26f53b3f6196",
   "metadata": {},
   "outputs": [],
   "source": [
    "# Plot\n",
    "plt.figure(figsize=(18,8))\n",
    "\n",
    "# Retrive premiered movies by genre and year\n",
    "for genre in genre_top5:\n",
    "    query = f'SELECT premiered, COUNT(*) AS abs_frequency FROM titles WHERE genres LIKE \"%{genre}%\" AND premiered NOT NULL AND premiered <= 2022 AND type = \"movie\" GROUP BY premiered'\n",
    "    genres_df = pd.read_sql_query(query, conn)\n",
    "    sns.lineplot(x=genres_df['premiered'], y=genres_df['abs_frequency'])\n",
    "\n",
    "\n",
    "plt.title(\"\\nNumber of titles premiered each year by genre\\n\")\n",
    "plt.ylabel(\"Number of movies\")\n",
    "plt.xlabel(\"Premiered year\")\n",
    "plt.legend(labels=genre_top5)\n",
    "plt.show()"
   ]
  },
  {
   "cell_type": "code",
   "execution_count": null,
   "id": "d28b1789-4ef6-465d-bdcf-92ca74c0115b",
   "metadata": {},
   "outputs": [],
   "source": []
  }
 ],
 "metadata": {
  "kernelspec": {
   "display_name": "Python 3 (ipykernel)",
   "language": "python",
   "name": "python3"
  },
  "language_info": {
   "codemirror_mode": {
    "name": "ipython",
    "version": 3
   },
   "file_extension": ".py",
   "mimetype": "text/x-python",
   "name": "python",
   "nbconvert_exporter": "python",
   "pygments_lexer": "ipython3",
   "version": "3.9.7"
  }
 },
 "nbformat": 4,
 "nbformat_minor": 5
}
