{
 "cells": [
  {
   "cell_type": "markdown",
   "id": "e19024f5-a791-4be0-a0e3-62043fae591f",
   "metadata": {},
   "source": [
    "# Set up"
   ]
  },
  {
   "cell_type": "markdown",
   "id": "b9161918-c3fb-480f-8598-7e818484d105",
   "metadata": {},
   "source": [
    "The following package will download the TSV files from IMDB website and store the data into a SQLite database (requires 10GB of disk space)\n"
   ]
  },
  {
   "cell_type": "code",
   "execution_count": null,
   "id": "fc97f193-6a98-460c-af5c-b396ee3dc3af",
   "metadata": {},
   "outputs": [],
   "source": [
    "!pip install imdb-sqlite"
   ]
  },
  {
   "cell_type": "code",
   "execution_count": null,
   "id": "5a7c9220-ed3e-460d-8797-2c6c3b217943",
   "metadata": {},
   "outputs": [],
   "source": [
    "%%time\n",
    "!imdb-sqlite"
   ]
  },
  {
   "cell_type": "code",
   "execution_count": null,
   "id": "fa0d2635-7ab2-41c7-8f6a-43d98113e33d",
   "metadata": {},
   "outputs": [],
   "source": [
    "# Need this package for hadling country ISO codes\n",
    "!pip install pycountry"
   ]
  },
  {
   "cell_type": "code",
   "execution_count": null,
   "id": "a43d2671-4d8a-4066-bf91-89b1420f1b61",
   "metadata": {},
   "outputs": [],
   "source": [
    "# Imports\n",
    "\n",
    "import re\n",
    "import time\n",
    "import sqlite3\n",
    "import pycountry\n",
    "import numpy as np\n",
    "import pandas as pd\n",
    "import matplotlib.pyplot as plt\n",
    "import seaborn as sns\n",
    "import warnings\n",
    "from matplotlib import cm # Color maps\n",
    "from sklearn.feature_extraction.text import CountVectorizer # Convert a collection of text documents to a matrix of token counts"
   ]
  },
  {
   "cell_type": "code",
   "execution_count": null,
   "id": "68713c74-af29-4df7-9fe5-6ba63fe26e62",
   "metadata": {},
   "outputs": [],
   "source": [
    "# Some tweaks\n",
    "\n",
    "warnings.filterwarnings('ignore') # Don't show warnings\n",
    "sns.set_theme(style = 'whitegrid')"
   ]
  },
  {
   "cell_type": "markdown",
   "id": "cff4f574-334d-4894-a363-49b60cab3399",
   "metadata": {},
   "source": [
    "# Database structure analysis"
   ]
  },
  {
   "cell_type": "code",
   "execution_count": null,
   "id": "9b9d6e43-c3f9-4a12-8fb9-484e3f75ce10",
   "metadata": {},
   "outputs": [],
   "source": [
    "# Connect to databse\n",
    "conn = sqlite3.connect('imdb.db')"
   ]
  },
  {
   "cell_type": "code",
   "execution_count": null,
   "id": "e66de4a7-7cb4-4304-a111-a03dbcafbd60",
   "metadata": {},
   "outputs": [],
   "source": [
    "# Retrieve tables' names\n",
    "tables = pd.read_sql_query('SELECT name AS \"Table_name\" FROM sqlite_master WHERE type=\"table\" LIMIT 5', conn)\n",
    "tables.head()"
   ]
  },
  {
   "cell_type": "code",
   "execution_count": null,
   "id": "7bc82768-3fad-4534-aa68-79c8e0e01a4b",
   "metadata": {},
   "outputs": [],
   "source": [
    "# Retrieve each table's schema\n",
    "\n",
    "tables_names = tables['Table_name'].values.tolist()\n",
    "\n",
    "for table_name in tables_names:\n",
    "    schema = pd.read_sql_query(f'PRAGMA TABLE_INFO({table_name})', conn)\n",
    "    print(f'Schema for table {table_name}:')\n",
    "    display(schema)\n",
    "    print(f'{50 * \"_\"}\\n\\n')"
   ]
  },
  {
   "cell_type": "markdown",
   "id": "317be3ea-3019-43c7-a4e2-a3ab1f581b8a",
   "metadata": {},
   "source": [
    "# 1. The most common content categories in IMDB"
   ]
  },
  {
   "cell_type": "code",
   "execution_count": null,
   "id": "b480e4b5-38d3-4485-8e37-5c2363f94bf9",
   "metadata": {},
   "outputs": [],
   "source": [
    "# Retrieve the data\n",
    "query = 'SELECT type, COUNT(*) AS abs_frequency FROM titles GROUP BY type ORDER BY abs_frequency DESC'\n",
    "dataframe = pd.read_sql_query(query, conn)\n",
    "display(dataframe)"
   ]
  },
  {
   "cell_type": "code",
   "execution_count": null,
   "id": "bd476739-8e32-4d4d-a7ec-9105fbed7230",
   "metadata": {},
   "outputs": [],
   "source": [
    "# Remove tvEpisode type\n",
    "dataframe = dataframe.drop(labels = 0, axis = 0)"
   ]
  },
  {
   "cell_type": "code",
   "execution_count": null,
   "id": "49b0c7e8-78a5-44b7-bcd1-4ea6d9a75424",
   "metadata": {},
   "outputs": [],
   "source": [
    "# Add the relative_frequency\n",
    "sum_abs_freq = dataframe['abs_frequency'].sum()\n",
    "dataframe['rel_frequency'] = (dataframe['abs_frequency'] / sum_abs_freq) * 100\n",
    "display(dataframe)"
   ]
  },
  {
   "cell_type": "markdown",
   "id": "2e632d32-96d9-415e-bce6-6d6a47b7b91b",
   "metadata": {},
   "source": [
    "Now let's create a graph with 5 categories:\n",
    "\n",
    "4 categories with the the biggest amount of titles.\n",
    "\n",
    "1 category with the others\n"
   ]
  },
  {
   "cell_type": "code",
   "execution_count": null,
   "id": "beab865d-74a5-4a0d-8f94-7e306888d521",
   "metadata": {},
   "outputs": [],
   "source": [
    "# Others category\n",
    "others = {}\n",
    "others['type'] = 'others'\n",
    "others['abs_frequency'] = dataframe.iloc[4:]['abs_frequency'].sum()\n",
    "others['rel_frequency'] = dataframe.iloc[4:]['rel_frequency'].sum()\n",
    "others"
   ]
  },
  {
   "cell_type": "code",
   "execution_count": null,
   "id": "9e00155a-bb99-4fab-80f1-cbc1e9db7edc",
   "metadata": {},
   "outputs": [],
   "source": [
    "# The common title categories dataframe\n",
    "dataframe = dataframe.head(4)\n",
    "dataframe = dataframe.append(others, ignore_index = True) # Append others category\n",
    "dataframe = dataframe.sort_values(by = 'rel_frequency', ascending = False)\n",
    "dataframe"
   ]
  },
  {
   "cell_type": "code",
   "execution_count": null,
   "id": "53366ff1-340a-44c8-8dcf-1f72109bb67a",
   "metadata": {},
   "outputs": [],
   "source": [
    "# Labels\n",
    "labels = []\n",
    "\n",
    "for i in dataframe.index:\n",
    "    cont_type = dataframe.loc[i][\"type\"]\n",
    "    cont_type = re.sub(r\"(\\w)([A-Z])\", r\"\\1 \\2\", cont_type) # Add space before capital letters\n",
    "    cont_type = cont_type[0].upper() + cont_type[1:] # Uppercase the first letter without changing the rest\n",
    "    \n",
    "    rel_freq = round(dataframe.loc[i][\"rel_frequency\"], 2)\n",
    "    \n",
    "    labels.append(f'{cont_type} {rel_freq}%')\n",
    "    \n",
    "labels"
   ]
  },
  {
   "cell_type": "code",
   "execution_count": null,
   "id": "1d6b05ca-d8a7-422c-9e98-f4293a24f40c",
   "metadata": {},
   "outputs": [],
   "source": [
    "# Plot\n",
    "\n",
    "# Set color map\n",
    "# https://matplotlib.org/stable/tutorials/colors/colormaps.html\n",
    "cs = cm.tab10(range(100))\n",
    "\n",
    "plt.pie(dataframe['rel_frequency'], colors = cs, labeldistance = 1, radius = 3, wedgeprops = dict(width = 0.8))\n",
    "plt.legend(labels = labels, loc = 'center', fontsize = 12)\n",
    "plt.title(label = 'Content Categories', loc = 'center', fontdict = {'fontsize':20,'fontweight':20})\n",
    "plt.show()\n",
    "\n"
   ]
  },
  {
   "cell_type": "code",
   "execution_count": null,
   "id": "5888e181-37a0-4c2b-b679-8a5e35b42d24",
   "metadata": {},
   "outputs": [],
   "source": []
  }
 ],
 "metadata": {
  "kernelspec": {
   "display_name": "Python 3 (ipykernel)",
   "language": "python",
   "name": "python3"
  },
  "language_info": {
   "codemirror_mode": {
    "name": "ipython",
    "version": 3
   },
   "file_extension": ".py",
   "mimetype": "text/x-python",
   "name": "python",
   "nbconvert_exporter": "python",
   "pygments_lexer": "ipython3",
   "version": "3.9.7"
  }
 },
 "nbformat": 4,
 "nbformat_minor": 5
}
