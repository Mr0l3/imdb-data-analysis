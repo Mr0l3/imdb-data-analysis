{
 "cells": [
  {
   "cell_type": "markdown",
   "id": "e19024f5-a791-4be0-a0e3-62043fae591f",
   "metadata": {},
   "source": [
    "# Set up"
   ]
  },
  {
   "cell_type": "markdown",
   "id": "b9161918-c3fb-480f-8598-7e818484d105",
   "metadata": {},
   "source": [
    "The following package will download the TSV files from IMDB website and store the data into a SQLite database (requires 10GB of disk space)\n"
   ]
  },
  {
   "cell_type": "code",
   "execution_count": null,
   "id": "fc97f193-6a98-460c-af5c-b396ee3dc3af",
   "metadata": {},
   "outputs": [],
   "source": [
    "!pip install imdb-sqlite"
   ]
  },
  {
   "cell_type": "code",
   "execution_count": null,
   "id": "5a7c9220-ed3e-460d-8797-2c6c3b217943",
   "metadata": {},
   "outputs": [],
   "source": [
    "%%time\n",
    "!imdb-sqlite"
   ]
  },
  {
   "cell_type": "code",
   "execution_count": null,
   "id": "fa0d2635-7ab2-41c7-8f6a-43d98113e33d",
   "metadata": {},
   "outputs": [],
   "source": [
    "# Need this package for hadling country ISO codes\n",
    "!pip install pycountry"
   ]
  },
  {
   "cell_type": "code",
   "execution_count": null,
   "id": "a43d2671-4d8a-4066-bf91-89b1420f1b61",
   "metadata": {},
   "outputs": [],
   "source": [
    "# Imports\n",
    "\n",
    "import re\n",
    "import time\n",
    "import sqlite3\n",
    "import pycountry\n",
    "import numpy as np\n",
    "import pandas as pd\n",
    "import matplotlib.pyplot as plt\n",
    "import seaborn as sns\n",
    "import warnings\n",
    "from matplotlib import cm # Color maps\n",
    "from sklearn.feature_extraction.text import CountVectorizer # Convert a collection of text documents to a matrix of token counts"
   ]
  },
  {
   "cell_type": "code",
   "execution_count": null,
   "id": "68713c74-af29-4df7-9fe5-6ba63fe26e62",
   "metadata": {},
   "outputs": [],
   "source": [
    "# Some tweaks\n",
    "\n",
    "warnings.filterwarnings('ignore') # Don't show warnings\n",
    "sns.set_theme(style = 'whitegrid')"
   ]
  },
  {
   "cell_type": "markdown",
   "id": "cff4f574-334d-4894-a363-49b60cab3399",
   "metadata": {},
   "source": [
    "# Database structure analysis"
   ]
  },
  {
   "cell_type": "code",
   "execution_count": null,
   "id": "9b9d6e43-c3f9-4a12-8fb9-484e3f75ce10",
   "metadata": {},
   "outputs": [],
   "source": [
    "# Connect to databse\n",
    "conn = sqlite3.connect('imdb.db')"
   ]
  },
  {
   "cell_type": "code",
   "execution_count": null,
   "id": "e66de4a7-7cb4-4304-a111-a03dbcafbd60",
   "metadata": {},
   "outputs": [],
   "source": [
    "# Retrieve tables' names\n",
    "tables = pd.read_sql_query('SELECT name AS \"Table_name\" FROM sqlite_master WHERE type=\"table\"', conn)\n",
    "tables.head()"
   ]
  },
  {
   "cell_type": "code",
   "execution_count": null,
   "id": "7bc82768-3fad-4534-aa68-79c8e0e01a4b",
   "metadata": {},
   "outputs": [],
   "source": [
    "# Retrieve each table's schema\n",
    "\n",
    "tables_names = tables['Table_name'].values.tolist()\n",
    "\n",
    "for table_name in tables_names:\n",
    "    schema = pd.read_sql_query(f'PRAGMA TABLE_INFO({table_name})', conn)\n",
    "    print(f'Schema for table {table_name}:')\n",
    "    display(schema)\n",
    "    print(f'{50 * \"_\"}\\n\\n')"
   ]
  },
  {
   "cell_type": "markdown",
   "id": "317be3ea-3019-43c7-a4e2-a3ab1f581b8a",
   "metadata": {},
   "source": [
    "# 1. The most common content categories in IMDB"
   ]
  },
  {
   "cell_type": "code",
   "execution_count": null,
   "id": "b480e4b5-38d3-4485-8e37-5c2363f94bf9",
   "metadata": {},
   "outputs": [],
   "source": [
    "# Retrieve the data\n",
    "query = 'SELECT type, COUNT(*) AS abs_frequency FROM titles GROUP BY type ORDER BY abs_frequency DESC'\n",
    "dataframe = pd.read_sql_query(query, conn)\n",
    "display(dataframe)"
   ]
  },
  {
   "cell_type": "code",
   "execution_count": null,
   "id": "bd476739-8e32-4d4d-a7ec-9105fbed7230",
   "metadata": {},
   "outputs": [],
   "source": [
    "# Remove tvEpisode type\n",
    "dataframe = dataframe.drop(labels = 0, axis = 0)"
   ]
  },
  {
   "cell_type": "code",
   "execution_count": null,
   "id": "49b0c7e8-78a5-44b7-bcd1-4ea6d9a75424",
   "metadata": {},
   "outputs": [],
   "source": [
    "# Add the relative_frequency\n",
    "sum_abs_freq = dataframe['abs_frequency'].sum()\n",
    "dataframe['rel_frequency'] = (dataframe['abs_frequency'] / sum_abs_freq) * 100\n",
    "display(dataframe)"
   ]
  },
  {
   "cell_type": "markdown",
   "id": "2e632d32-96d9-415e-bce6-6d6a47b7b91b",
   "metadata": {},
   "source": [
    "Now let's create a graph with 5 categories:\n",
    "\n",
    "4 categories with the the biggest amount of titles.\n",
    "\n",
    "1 category with the others\n"
   ]
  },
  {
   "cell_type": "code",
   "execution_count": null,
   "id": "beab865d-74a5-4a0d-8f94-7e306888d521",
   "metadata": {},
   "outputs": [],
   "source": [
    "# Others category\n",
    "others = {}\n",
    "others['type'] = 'others'\n",
    "others['abs_frequency'] = dataframe.iloc[4:]['abs_frequency'].sum()\n",
    "others['rel_frequency'] = dataframe.iloc[4:]['rel_frequency'].sum()\n",
    "others"
   ]
  },
  {
   "cell_type": "code",
   "execution_count": null,
   "id": "9e00155a-bb99-4fab-80f1-cbc1e9db7edc",
   "metadata": {},
   "outputs": [],
   "source": [
    "# The common title categories dataframe\n",
    "dataframe = dataframe.head(4)\n",
    "dataframe = dataframe.append(others, ignore_index = True) # Append others category\n",
    "dataframe = dataframe.sort_values(by = 'rel_frequency', ascending = False)\n",
    "dataframe"
   ]
  },
  {
   "cell_type": "code",
   "execution_count": null,
   "id": "53366ff1-340a-44c8-8dcf-1f72109bb67a",
   "metadata": {},
   "outputs": [],
   "source": [
    "# Labels\n",
    "labels = []\n",
    "\n",
    "for i in dataframe.index:\n",
    "    cont_type = dataframe.loc[i][\"type\"]\n",
    "    cont_type = re.sub(r\"(\\w)([A-Z])\", r\"\\1 \\2\", cont_type) # Add space before capital letters\n",
    "    cont_type = cont_type[0].upper() + cont_type[1:] # Uppercase the first letter without changing the rest\n",
    "    \n",
    "    rel_freq = round(dataframe.loc[i][\"rel_frequency\"], 2)\n",
    "    \n",
    "    labels.append(f'{cont_type} {rel_freq}%')\n",
    "    \n",
    "labels"
   ]
  },
  {
   "cell_type": "code",
   "execution_count": null,
   "id": "1d6b05ca-d8a7-422c-9e98-f4293a24f40c",
   "metadata": {},
   "outputs": [],
   "source": [
    "# Plot\n",
    "\n",
    "# Set color map\n",
    "# https://matplotlib.org/stable/tutorials/colors/colormaps.html\n",
    "cs = cm.tab10(range(100))\n",
    "\n",
    "plt.pie(dataframe['rel_frequency'], colors = cs, labeldistance = 1, radius = 3, wedgeprops = dict(width = 0.8))\n",
    "plt.legend(labels = labels, loc = 'center', fontsize = 12)\n",
    "plt.title(label = 'Content Categories', loc = 'center', fontdict = {'fontsize':20,'fontweight':20})\n",
    "plt.show()\n",
    "\n"
   ]
  },
  {
   "cell_type": "markdown",
   "id": "aca33922-a191-458f-ae2f-70c5a5eb6b44",
   "metadata": {},
   "source": [
    "# 2. Number of movies per genre"
   ]
  },
  {
   "cell_type": "code",
   "execution_count": null,
   "id": "9a3e7465-fd9a-4953-b2c4-8fc279163e24",
   "metadata": {},
   "outputs": [],
   "source": [
    "# Retrieve movie genres and sort them\n",
    "query = 'SELECT genres FROM titles WHERE type=\"movie\"'\n",
    "dataframe = pd.read_sql_query(query, conn)\n",
    "display(dataframe)"
   ]
  },
  {
   "cell_type": "code",
   "execution_count": null,
   "id": "0c8128eb-8829-4f09-b1b0-cb3417ad23f7",
   "metadata": {},
   "outputs": [],
   "source": [
    "# Lowercase genres\n",
    "dataframe['genres'] = dataframe['genres'].str.lower()"
   ]
  },
  {
   "cell_type": "code",
   "execution_count": null,
   "id": "027e9e9d-8145-4623-8a3b-ca44236ed968",
   "metadata": {},
   "outputs": [],
   "source": [
    "# Remove missing values (\\N)\n",
    "dataframe['genres'].replace('\\\\n', np.nan, inplace = True)\n",
    "genres_df = dataframe['genres'].dropna()\n",
    "display(genres_df)"
   ]
  },
  {
   "cell_type": "markdown",
   "id": "cd3881d2-57a0-4d34-a7a8-dcbb3cb0ebaf",
   "metadata": {},
   "source": [
    "#### How CountVectorizer works:\n",
    "\n",
    "![How CountVectorizer works](https://mlwhiz.com/images/countvectorizer.png)"
   ]
  },
  {
   "cell_type": "code",
   "execution_count": null,
   "id": "74d198ce-7c66-43db-9a4a-d782648e4def",
   "metadata": {},
   "outputs": [],
   "source": [
    "# Match words with lenght > 1 and with - or not\n",
    "# We use count vectorizer to count the genderr' frequencies\n",
    "pattern = '(?u)\\\\b\\\\w[\\\\w-]+\\\\b'\n",
    "vect = CountVectorizer(token_pattern = pattern).fit(genres_df)\n",
    "vect"
   ]
  },
  {
   "cell_type": "code",
   "execution_count": null,
   "id": "cc45b41a-5cb0-493b-82f6-7b247959a420",
   "metadata": {},
   "outputs": [],
   "source": [
    "# Create Document-term matrix.\n",
    "\n",
    "bag_genres = vect.transform(genres_df)\n",
    "bag_genres"
   ]
  },
  {
   "cell_type": "code",
   "execution_count": null,
   "id": "933c104b-f311-4b88-b132-2868726a2ab5",
   "metadata": {},
   "outputs": [],
   "source": [
    "# Return token names\n",
    "\n",
    "unique_genres = vect.get_feature_names()\n",
    "unique_genres"
   ]
  },
  {
   "cell_type": "code",
   "execution_count": null,
   "id": "c19e4f26-b0f1-4b0a-ae4f-87d83f6cd04b",
   "metadata": {},
   "outputs": [],
   "source": [
    "# Sum sparse matrix columns\n",
    "genres_abs_freq = bag_genres.toarray().sum(axis = 0)\n",
    "genres_abs_freq"
   ]
  },
  {
   "cell_type": "code",
   "execution_count": null,
   "id": "21b55f54-73d0-46ef-8bf2-3f29fb18ff2b",
   "metadata": {},
   "outputs": [],
   "source": [
    "# Sum of absolute frequencies\n",
    "freq_total_sum = genres_abs_freq.sum()\n",
    "freq_total_sum"
   ]
  },
  {
   "cell_type": "code",
   "execution_count": null,
   "id": "b32326fd-6707-41c2-8832-6b1cf7d56ed3",
   "metadata": {},
   "outputs": [],
   "source": [
    "# Create final dataframe\n",
    "genres_df = pd.DataFrame(zip(unique_genres, genres_abs_freq), columns = ['genre', 'abs_freq'])"
   ]
  },
  {
   "cell_type": "code",
   "execution_count": null,
   "id": "00df4cea-2820-401e-b757-5b49c9d8913f",
   "metadata": {},
   "outputs": [],
   "source": [
    "# Sort by absolute frequency\n",
    "genres_df = genres_df.sort_values(by = 'abs_freq', ascending = False)\n",
    "genres_df"
   ]
  },
  {
   "cell_type": "code",
   "execution_count": null,
   "id": "d5d1f83b-334d-4c2b-891e-dd815dc03874",
   "metadata": {},
   "outputs": [],
   "source": [
    "# Add relative frequencies to dataframe\n",
    "genres_df['rel_freq'] = [(abs_freq / freq_total_sum) * 100 for abs_freq in genres_df['abs_freq']]\n",
    "genres_df"
   ]
  },
  {
   "cell_type": "code",
   "execution_count": null,
   "id": "cf3745b9-cdcb-4076-bdc7-8cebcb8392d6",
   "metadata": {},
   "outputs": [],
   "source": [
    "# Plot\n",
    "\n",
    "plt.figure(figsize = (16, 8))\n",
    "sns.barplot(x = genres_df['rel_freq'].tolist(), y = genres_df['genre'].tolist(), orient = 'h', palette = 'terrain')\n",
    "plt.ylabel('Gender')\n",
    "plt.xlabel('Percentual of movies (%)')\n",
    "plt.title('Percentage of movie titles')\n",
    "plt.show()\n"
   ]
  }
 ],
 "metadata": {
  "kernelspec": {
   "display_name": "Python 3 (ipykernel)",
   "language": "python",
   "name": "python3"
  },
  "language_info": {
   "codemirror_mode": {
    "name": "ipython",
    "version": 3
   },
   "file_extension": ".py",
   "mimetype": "text/x-python",
   "name": "python",
   "nbconvert_exporter": "python",
   "pygments_lexer": "ipython3",
   "version": "3.9.7"
  }
 },
 "nbformat": 4,
 "nbformat_minor": 5
}
